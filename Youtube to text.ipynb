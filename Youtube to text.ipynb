{
 "cells": [
  {
   "cell_type": "code",
   "execution_count": null,
   "metadata": {},
   "outputs": [],
   "source": [
    "!python3 -m venv env\n",
    "!bash env/bin/activate"
   ]
  },
  {
   "cell_type": "code",
   "execution_count": null,
   "metadata": {},
   "outputs": [],
   "source": [
    "%pip install --user --break-system-packages langchain==0.0.292\n",
    "%pip install --user --break-system-packages yt_dlp==2023.7.6\n",
    "%pip install --user --break-system-packages tiktoken==0.5.1\n",
    "%pip install --user --break-system-packages openai==0.28.0"
   ]
  },
  {
   "cell_type": "code",
   "execution_count": null,
   "metadata": {},
   "outputs": [],
   "source": [
    "#Import OS package\n",
    "import os\n",
    "\n",
    "#Import glob\n",
    "import glob\n",
    "\n",
    "#Import the openai package\n",
    "import openai\n",
    "\n",
    "#Import the yt_dlp as youtube_dl\n",
    "import yt_dlp as youtube_dl\n",
    "\n",
    "#Import DownloadError from yt_dlp\n",
    "from yt_dlp import DownloadError"
   ]
  },
  {
   "cell_type": "code",
   "execution_count": null,
   "metadata": {},
   "outputs": [],
   "source": [
    "openai_api_key = os.getenv(\"OPENAI_API_KEY\")"
   ]
  },
  {
   "cell_type": "code",
   "execution_count": null,
   "metadata": {},
   "outputs": [],
   "source": [
    "import shutil\n",
    "#Add youtube video url\n",
    "youtube_url = \"https://www.youtube.com/watch?v=tLaLfaIJf-Y\"\n",
    "\n",
    "#Directory to save the downloaded video\n",
    "output_dir = \"./audios\"\n",
    "\n",
    "#Config for youtube-dl\n",
    "# Specify the path to ffprobe and ffmpeg executables\n",
    "ffmpeg_path = shutil.which(\"ffmpeg\")\n",
    "\n",
    "ydl_config = {\n",
    "    \"format\": \"bestaudio/best\",\n",
    "    \"postprocessors\": [\n",
    "        {\n",
    "            \"key\": \"FFmpegExtractAudio\",\n",
    "            \"preferredcodec\": \"mp3\",\n",
    "            \"preferredquality\": \"192\",\n",
    "        }\n",
    "    ],\n",
    "    \"outtmpl\": os.path.join(output_dir, \"%(title)s.%(ext)s\"),\n",
    "    \"verbose\": True,\n",
    "    \"ffmpeg_location\": ffmpeg_path\n",
    "}\n",
    "\n",
    "#Check if the output directory exists, if not create it\n",
    "if not os.path.exists(output_dir):\n",
    "    os.makedirs(output_dir)\n",
    "\n",
    "#Print a message indicating that the video is being downloaded\n",
    "print(f\"Downloading audio from {youtube_url}\")\n",
    "\n",
    "# Attempt to download the video using specified config\n",
    "# If a DownloadError is raised, attempt to download the video again\n",
    "try:\n",
    "    with youtube_dl.YoutubeDL(ydl_config) as ydl:\n",
    "        ydl.download([youtube_url])\n",
    "except DownloadError:\n",
    "    with youtube_dl.YoutubeDL(ydl_config) as ydl:\n",
    "        ydl.download([youtube_url])"
   ]
  },
  {
   "cell_type": "code",
   "execution_count": null,
   "metadata": {},
   "outputs": [],
   "source": [
    "# Find the audio files in the output directory\n",
    "audio_files = glob.glob(os.path.join(output_dir, \"*.mp3\"))\n",
    "\n",
    "# Select the first audio file\n",
    "audio_filename = audio_files[0]\n",
    "\n",
    "print(audio_filename)"
   ]
  },
  {
   "cell_type": "code",
   "execution_count": null,
   "metadata": {},
   "outputs": [],
   "source": [
    "# Function parameters\n",
    "audio_file = audio_filename\n",
    "model = \"whisper-1\"\n",
    "\n",
    "# Transcribe the audio file to text using OpenAI API\n",
    "print(\"Conveting audio to text...\")\n",
    "\n",
    "with open(audio_file, \"rb\") as audio:\n",
    "    response = openai.Audio.transcribe(model, audio)\n",
    "\n",
    "# Extract the transcription from the response\n",
    "transcript = (response[\"text\"])"
   ]
  },
  {
   "cell_type": "code",
   "execution_count": null,
   "metadata": {},
   "outputs": [],
   "source": [
    "output_file = \"./transcripts/output.txt\"\n",
    "\n",
    "# If an output file is specified, write the transcription to the file\n",
    "if output_file is not None:\n",
    "    # Create the output directory if it does not exist\n",
    "    os.makedirs(os.path.dirname(output_file), exist_ok=True)\n",
    "    # Write the transcript to the output file\n",
    "    with open(output_file, \"w\") as file:\n",
    "        file.write(transcript)\n",
    "\n",
    "# Print the transcription\n",
    "print(transcript)"
   ]
  },
  {
   "cell_type": "code",
   "execution_count": null,
   "metadata": {},
   "outputs": [],
   "source": [
    "# Import the TextLoader class from the langchain.document_loaders module\n",
    "from langchain.document_loaders import TextLoader\n",
    "\n",
    "# Create a new instance of the TextLoader class\n",
    "loader = TextLoader(\"./transcripts/output.txt\")\n",
    "\n",
    "# Load the document\n",
    "docs = loader.load()"
   ]
  },
  {
   "cell_type": "code",
   "execution_count": null,
   "metadata": {},
   "outputs": [],
   "source": [
    "docs[0]"
   ]
  },
  {
   "cell_type": "code",
   "execution_count": null,
   "metadata": {},
   "outputs": [],
   "source": [
    "# Import the tiktoken package\n",
    "import tiktoken"
   ]
  },
  {
   "cell_type": "code",
   "execution_count": null,
   "metadata": {},
   "outputs": [],
   "source": [
    "# Import the RetrievalQA class from the langchain.chains module\n",
    "from langchain.chains import RetrievalQA\n",
    "\n",
    "# Import the ChatOpenAI class from the langchain.chat_models module\n",
    "from langchain.chat_models import ChatOpenAI\n",
    "\n",
    "# Import the DocArrayInMemorySearch class from the langchain.vectorstores module\n",
    "from langchain.vectorstores import DocArrayInMemorySearch\n",
    "\n",
    "# Import the OpenAIEmbedding class from the langchain.embeddings module\n",
    "from langchain.embeddings import OpenAIEmbeddings"
   ]
  },
  {
   "cell_type": "code",
   "execution_count": null,
   "metadata": {},
   "outputs": [],
   "source": [
    "# Create a new DocArrayInMemorySearch instance from the specified document\n",
    "db = DocArrayInMemorySearch.from_documents(docs, OpenAIEmbeddings())"
   ]
  },
  {
   "cell_type": "code",
   "execution_count": null,
   "metadata": {},
   "outputs": [],
   "source": [
    "# Convert the DocArrayInMemorySearch instance to a retriever\n",
    "retriever = db.as_retriever()\n",
    "\n",
    "# Create a new ChatOpenAI instance with the temperature of 0.0\n",
    "llm = ChatOpenAI(temperature=0.0)"
   ]
  },
  {
   "cell_type": "code",
   "execution_count": null,
   "metadata": {},
   "outputs": [],
   "source": [
    "# Create  a new RetrievalQA instance with the specified parameters\n",
    "qa_stuff = RetrievalQA.from_chain_type(llm=llm, chain_type=\"stuff\", retriever=retriever, verbose=True)"
   ]
  },
  {
   "cell_type": "code",
   "execution_count": null,
   "metadata": {},
   "outputs": [],
   "source": [
    "# Select the query to be used for the QA system\n",
    "query = \"Who is best suited to take this course?\"\n",
    "\n",
    "# Run the query through the RetrievalQA instance and store the response\n",
    "response = qa_stuff.run(query)\n",
    "\n",
    "# Print the response\n",
    "print(response)"
   ]
  },
  {
   "cell_type": "code",
   "execution_count": null,
   "metadata": {},
   "outputs": [],
   "source": [
    "os.remove(audio_file)"
   ]
  }
 ],
 "metadata": {
  "kernelspec": {
   "display_name": "Python 3",
   "language": "python",
   "name": "python3"
  },
  "language_info": {
   "codemirror_mode": {
    "name": "ipython",
    "version": 3
   },
   "file_extension": ".py",
   "mimetype": "text/x-python",
   "name": "python",
   "nbconvert_exporter": "python",
   "pygments_lexer": "ipython3",
   "version": "3.11.6"
  }
 },
 "nbformat": 4,
 "nbformat_minor": 2
}
